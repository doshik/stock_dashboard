{
 "cells": [
  {
   "cell_type": "code",
   "execution_count": 11,
   "id": "72028dbe-5732-47f3-9ffe-5459663954dc",
   "metadata": {},
   "outputs": [],
   "source": [
    "# !pip install torch transformers datasets"
   ]
  },
  {
   "cell_type": "code",
   "execution_count": 40,
   "id": "d352ae45-01ac-4439-a34f-fe6fc7900018",
   "metadata": {},
   "outputs": [],
   "source": [
    "\n",
    "from transformers import pipeline\n",
    "from datasets import load_dataset\n",
    "import pandas as pd\n",
    "import ast\n",
    "from tqdm import tqdm\n",
    "\n",
    "tqdm.pandas()"
   ]
  },
  {
   "cell_type": "markdown",
   "id": "1d7e3e45-8110-4e9c-8ca9-429e551715cf",
   "metadata": {},
   "source": [
    "## Prepare Data"
   ]
  },
  {
   "cell_type": "code",
   "execution_count": 41,
   "id": "84aadd47-3504-4ab7-b460-544451daf4eb",
   "metadata": {},
   "outputs": [],
   "source": [
    "\n",
    "ds = load_dataset(\"JanosAudran/financial-reports-sec\", \"small_full\")"
   ]
  },
  {
   "cell_type": "code",
   "execution_count": 42,
   "id": "f550b981-170f-4312-a885-07dadcdaac56",
   "metadata": {},
   "outputs": [
    {
     "name": "stderr",
     "output_type": "stream",
     "text": [
      "100%|██████████| 200000/200000 [00:00<00:00, 1502960.37it/s]\n",
      "100%|██████████| 200000/200000 [00:24<00:00, 8140.96it/s] \n"
     ]
    }
   ],
   "source": [
    "df = ds[\"train\"].to_pandas()\n",
    "COLS = [\"sentenceID\", \"sentence\", \"docID\", \"filingDate\", \"section\", \"name\", \"labels\", \"tickers\", \"reportDate\", \"returns\"]\n",
    "df = df[COLS]\n",
    "\n",
    "\n",
    "# convert the dict val inside the labels col to 3 separate cols for 1d, 5d and 30d window. \n",
    "def parse_labels(label):\n",
    "    if isinstance(label, str):  # Check if the entry is a string\n",
    "        try:\n",
    "            return json.loads(label.replace(\"'\", '\"'))  # Convert single quotes to double quotes for JSON\n",
    "        except json.JSONDecodeError as e:\n",
    "            print(f\"Error parsing label: {label} -> {e}\")\n",
    "            return {}  # Return an empty dict if parsing fails\n",
    "    return label \n",
    "\n",
    "\n",
    "labels_df = df['labels'].progress_apply(parse_labels).progress_apply(pd.Series)\n",
    "labels_df.columns = [f\"label_{col}\" for col in labels_df.columns]\n",
    "df = pd.concat([df, labels_df], axis=1).drop(columns=['labels'])"
   ]
  },
  {
   "cell_type": "code",
   "execution_count": 43,
   "id": "c5159998-ea7d-47cf-b515-8f7dda3e9f3f",
   "metadata": {},
   "outputs": [
    {
     "data": {
      "text/html": [
       "<div>\n",
       "<style scoped>\n",
       "    .dataframe tbody tr th:only-of-type {\n",
       "        vertical-align: middle;\n",
       "    }\n",
       "\n",
       "    .dataframe tbody tr th {\n",
       "        vertical-align: top;\n",
       "    }\n",
       "\n",
       "    .dataframe thead th {\n",
       "        text-align: right;\n",
       "    }\n",
       "</style>\n",
       "<table border=\"1\" class=\"dataframe\">\n",
       "  <thead>\n",
       "    <tr style=\"text-align: right;\">\n",
       "      <th></th>\n",
       "      <th>sentenceID</th>\n",
       "      <th>sentence</th>\n",
       "      <th>docID</th>\n",
       "      <th>filingDate</th>\n",
       "      <th>section</th>\n",
       "      <th>name</th>\n",
       "      <th>tickers</th>\n",
       "      <th>reportDate</th>\n",
       "      <th>returns</th>\n",
       "      <th>label_1d</th>\n",
       "      <th>label_5d</th>\n",
       "      <th>label_30d</th>\n",
       "    </tr>\n",
       "  </thead>\n",
       "  <tbody>\n",
       "    <tr>\n",
       "      <th>0</th>\n",
       "      <td>0000001750_10-K_2020_section_1_0</td>\n",
       "      <td>ITEM 1.BUSINESS General AAR CORP. and its subs...</td>\n",
       "      <td>0000001750_10-K_2020</td>\n",
       "      <td>2020-07-21</td>\n",
       "      <td>0</td>\n",
       "      <td>AAR CORP</td>\n",
       "      <td>[AIR]</td>\n",
       "      <td>2020-05-31</td>\n",
       "      <td>{'1d': {'closePriceEndDate': 19.01000022888183...</td>\n",
       "      <td>0</td>\n",
       "      <td>1</td>\n",
       "      <td>0</td>\n",
       "    </tr>\n",
       "    <tr>\n",
       "      <th>1</th>\n",
       "      <td>0000001750_10-K_2020_section_1_1</td>\n",
       "      <td>AAR was founded in 1951, organized in 1955 and...</td>\n",
       "      <td>0000001750_10-K_2020</td>\n",
       "      <td>2020-07-21</td>\n",
       "      <td>0</td>\n",
       "      <td>AAR CORP</td>\n",
       "      <td>[AIR]</td>\n",
       "      <td>2020-05-31</td>\n",
       "      <td>{'1d': {'closePriceEndDate': 19.01000022888183...</td>\n",
       "      <td>0</td>\n",
       "      <td>1</td>\n",
       "      <td>0</td>\n",
       "    </tr>\n",
       "    <tr>\n",
       "      <th>2</th>\n",
       "      <td>0000001750_10-K_2020_section_1_2</td>\n",
       "      <td>We are a diversified provider of products and ...</td>\n",
       "      <td>0000001750_10-K_2020</td>\n",
       "      <td>2020-07-21</td>\n",
       "      <td>0</td>\n",
       "      <td>AAR CORP</td>\n",
       "      <td>[AIR]</td>\n",
       "      <td>2020-05-31</td>\n",
       "      <td>{'1d': {'closePriceEndDate': 19.01000022888183...</td>\n",
       "      <td>0</td>\n",
       "      <td>1</td>\n",
       "      <td>0</td>\n",
       "    </tr>\n",
       "    <tr>\n",
       "      <th>3</th>\n",
       "      <td>0000001750_10-K_2020_section_1_3</td>\n",
       "      <td>Fiscal 2020 began with strategic initiatives f...</td>\n",
       "      <td>0000001750_10-K_2020</td>\n",
       "      <td>2020-07-21</td>\n",
       "      <td>0</td>\n",
       "      <td>AAR CORP</td>\n",
       "      <td>[AIR]</td>\n",
       "      <td>2020-05-31</td>\n",
       "      <td>{'1d': {'closePriceEndDate': 19.01000022888183...</td>\n",
       "      <td>0</td>\n",
       "      <td>1</td>\n",
       "      <td>0</td>\n",
       "    </tr>\n",
       "    <tr>\n",
       "      <th>4</th>\n",
       "      <td>0000001750_10-K_2020_section_1_4</td>\n",
       "      <td>Our momentum from a successful fiscal 2019 car...</td>\n",
       "      <td>0000001750_10-K_2020</td>\n",
       "      <td>2020-07-21</td>\n",
       "      <td>0</td>\n",
       "      <td>AAR CORP</td>\n",
       "      <td>[AIR]</td>\n",
       "      <td>2020-05-31</td>\n",
       "      <td>{'1d': {'closePriceEndDate': 19.01000022888183...</td>\n",
       "      <td>0</td>\n",
       "      <td>1</td>\n",
       "      <td>0</td>\n",
       "    </tr>\n",
       "  </tbody>\n",
       "</table>\n",
       "</div>"
      ],
      "text/plain": [
       "                         sentenceID  \\\n",
       "0  0000001750_10-K_2020_section_1_0   \n",
       "1  0000001750_10-K_2020_section_1_1   \n",
       "2  0000001750_10-K_2020_section_1_2   \n",
       "3  0000001750_10-K_2020_section_1_3   \n",
       "4  0000001750_10-K_2020_section_1_4   \n",
       "\n",
       "                                            sentence                 docID  \\\n",
       "0  ITEM 1.BUSINESS General AAR CORP. and its subs...  0000001750_10-K_2020   \n",
       "1  AAR was founded in 1951, organized in 1955 and...  0000001750_10-K_2020   \n",
       "2  We are a diversified provider of products and ...  0000001750_10-K_2020   \n",
       "3  Fiscal 2020 began with strategic initiatives f...  0000001750_10-K_2020   \n",
       "4  Our momentum from a successful fiscal 2019 car...  0000001750_10-K_2020   \n",
       "\n",
       "   filingDate  section      name tickers  reportDate  \\\n",
       "0  2020-07-21        0  AAR CORP   [AIR]  2020-05-31   \n",
       "1  2020-07-21        0  AAR CORP   [AIR]  2020-05-31   \n",
       "2  2020-07-21        0  AAR CORP   [AIR]  2020-05-31   \n",
       "3  2020-07-21        0  AAR CORP   [AIR]  2020-05-31   \n",
       "4  2020-07-21        0  AAR CORP   [AIR]  2020-05-31   \n",
       "\n",
       "                                             returns  label_1d  label_5d  \\\n",
       "0  {'1d': {'closePriceEndDate': 19.01000022888183...         0         1   \n",
       "1  {'1d': {'closePriceEndDate': 19.01000022888183...         0         1   \n",
       "2  {'1d': {'closePriceEndDate': 19.01000022888183...         0         1   \n",
       "3  {'1d': {'closePriceEndDate': 19.01000022888183...         0         1   \n",
       "4  {'1d': {'closePriceEndDate': 19.01000022888183...         0         1   \n",
       "\n",
       "   label_30d  \n",
       "0          0  \n",
       "1          0  \n",
       "2          0  \n",
       "3          0  \n",
       "4          0  "
      ]
     },
     "execution_count": 43,
     "metadata": {},
     "output_type": "execute_result"
    }
   ],
   "source": [
    "df.head()"
   ]
  },
  {
   "cell_type": "markdown",
   "id": "26d40a44-a978-45fa-9060-d133df7d78b3",
   "metadata": {},
   "source": [
    "## Extract Sentiments"
   ]
  },
  {
   "cell_type": "code",
   "execution_count": 44,
   "id": "870c6303-209d-4ce3-aac6-3a7b481a3923",
   "metadata": {},
   "outputs": [],
   "source": [
    "sentiment_pipeline = pipeline(\"text-classification\", model=\"ProsusAI/finbert\", device=0, truncation=True)"
   ]
  },
  {
   "cell_type": "code",
   "execution_count": 46,
   "id": "409417f0-8eca-4569-9616-2c0a17fc5ecf",
   "metadata": {},
   "outputs": [
    {
     "data": {
      "text/plain": [
       "[{'label': 'neutral', 'score': 0.9483352899551392},\n",
       " {'label': 'neutral', 'score': 0.9519177079200745},\n",
       " {'label': 'neutral', 'score': 0.8594400882720947},\n",
       " {'label': 'positive', 'score': 0.6688447594642639},\n",
       " {'label': 'positive', 'score': 0.953032374382019}]"
      ]
     },
     "execution_count": 46,
     "metadata": {},
     "output_type": "execute_result"
    }
   ],
   "source": [
    "# testing on few rows\n",
    "sentiment_pipeline(df.iloc[0:5]['sentence'].tolist(),)"
   ]
  },
  {
   "cell_type": "code",
   "execution_count": 47,
   "id": "64c8b997-595a-4583-bbd8-8b3dcb13b122",
   "metadata": {},
   "outputs": [
    {
     "name": "stderr",
     "output_type": "stream",
     "text": [
      "Processing Batches: 100%|██████████| 3125/3125 [02:50<00:00, 18.36it/s]\n"
     ]
    }
   ],
   "source": [
    "texts = df['sentence'].tolist()\n",
    "\n",
    "sentiment_labels = []\n",
    "batch_size = 64\n",
    "\n",
    "for i in tqdm(range(0, len(texts), batch_size), desc=\"Processing Batches\"):\n",
    "    batch_texts = texts[i:i+batch_size]\n",
    "    batch_results = sentiment_pipeline(batch_texts, truncation=True, batch_size=batch_size)\n",
    "    sentiment_labels.extend([res['label'] for res in batch_results])"
   ]
  },
  {
   "cell_type": "code",
   "execution_count": 48,
   "id": "167faef9-6ff1-4b4b-a697-4e278eae62dc",
   "metadata": {},
   "outputs": [],
   "source": [
    "df['sentiment'] = sentiment_labels"
   ]
  },
  {
   "cell_type": "code",
   "execution_count": 49,
   "id": "3cd0504d-05ee-4c8c-8d7a-0e6cbb9f96ac",
   "metadata": {},
   "outputs": [],
   "source": [
    "df.to_csv(\"10k_sentences_small_sentiments.csv\")"
   ]
  },
  {
   "cell_type": "code",
   "execution_count": 50,
   "id": "2e47664d-14b5-45ca-b213-f601baa12bb4",
   "metadata": {},
   "outputs": [
    {
     "data": {
      "text/plain": [
       "sentiment\n",
       "neutral     150589\n",
       "negative     29999\n",
       "positive     19412\n",
       "Name: count, dtype: int64"
      ]
     },
     "execution_count": 50,
     "metadata": {},
     "output_type": "execute_result"
    }
   ],
   "source": [
    "df['sentiment'].value_counts()"
   ]
  },
  {
   "cell_type": "code",
   "execution_count": 51,
   "id": "3abbc5c6-0a16-4b93-8053-4080ecc2ffea",
   "metadata": {},
   "outputs": [
    {
     "data": {
      "text/html": [
       "<div>\n",
       "<style scoped>\n",
       "    .dataframe tbody tr th:only-of-type {\n",
       "        vertical-align: middle;\n",
       "    }\n",
       "\n",
       "    .dataframe tbody tr th {\n",
       "        vertical-align: top;\n",
       "    }\n",
       "\n",
       "    .dataframe thead th {\n",
       "        text-align: right;\n",
       "    }\n",
       "</style>\n",
       "<table border=\"1\" class=\"dataframe\">\n",
       "  <thead>\n",
       "    <tr style=\"text-align: right;\">\n",
       "      <th></th>\n",
       "      <th>sentenceID</th>\n",
       "      <th>sentence</th>\n",
       "      <th>docID</th>\n",
       "      <th>filingDate</th>\n",
       "      <th>section</th>\n",
       "      <th>name</th>\n",
       "      <th>tickers</th>\n",
       "      <th>reportDate</th>\n",
       "      <th>returns</th>\n",
       "      <th>label_1d</th>\n",
       "      <th>label_5d</th>\n",
       "      <th>label_30d</th>\n",
       "      <th>sentiment</th>\n",
       "    </tr>\n",
       "  </thead>\n",
       "  <tbody>\n",
       "    <tr>\n",
       "      <th>0</th>\n",
       "      <td>0000001750_10-K_2020_section_1_0</td>\n",
       "      <td>ITEM 1.BUSINESS General AAR CORP. and its subs...</td>\n",
       "      <td>0000001750_10-K_2020</td>\n",
       "      <td>2020-07-21</td>\n",
       "      <td>0</td>\n",
       "      <td>AAR CORP</td>\n",
       "      <td>[AIR]</td>\n",
       "      <td>2020-05-31</td>\n",
       "      <td>{'1d': {'closePriceEndDate': 19.01000022888183...</td>\n",
       "      <td>0</td>\n",
       "      <td>1</td>\n",
       "      <td>0</td>\n",
       "      <td>neutral</td>\n",
       "    </tr>\n",
       "    <tr>\n",
       "      <th>1</th>\n",
       "      <td>0000001750_10-K_2020_section_1_1</td>\n",
       "      <td>AAR was founded in 1951, organized in 1955 and...</td>\n",
       "      <td>0000001750_10-K_2020</td>\n",
       "      <td>2020-07-21</td>\n",
       "      <td>0</td>\n",
       "      <td>AAR CORP</td>\n",
       "      <td>[AIR]</td>\n",
       "      <td>2020-05-31</td>\n",
       "      <td>{'1d': {'closePriceEndDate': 19.01000022888183...</td>\n",
       "      <td>0</td>\n",
       "      <td>1</td>\n",
       "      <td>0</td>\n",
       "      <td>neutral</td>\n",
       "    </tr>\n",
       "    <tr>\n",
       "      <th>2</th>\n",
       "      <td>0000001750_10-K_2020_section_1_2</td>\n",
       "      <td>We are a diversified provider of products and ...</td>\n",
       "      <td>0000001750_10-K_2020</td>\n",
       "      <td>2020-07-21</td>\n",
       "      <td>0</td>\n",
       "      <td>AAR CORP</td>\n",
       "      <td>[AIR]</td>\n",
       "      <td>2020-05-31</td>\n",
       "      <td>{'1d': {'closePriceEndDate': 19.01000022888183...</td>\n",
       "      <td>0</td>\n",
       "      <td>1</td>\n",
       "      <td>0</td>\n",
       "      <td>neutral</td>\n",
       "    </tr>\n",
       "    <tr>\n",
       "      <th>3</th>\n",
       "      <td>0000001750_10-K_2020_section_1_3</td>\n",
       "      <td>Fiscal 2020 began with strategic initiatives f...</td>\n",
       "      <td>0000001750_10-K_2020</td>\n",
       "      <td>2020-07-21</td>\n",
       "      <td>0</td>\n",
       "      <td>AAR CORP</td>\n",
       "      <td>[AIR]</td>\n",
       "      <td>2020-05-31</td>\n",
       "      <td>{'1d': {'closePriceEndDate': 19.01000022888183...</td>\n",
       "      <td>0</td>\n",
       "      <td>1</td>\n",
       "      <td>0</td>\n",
       "      <td>positive</td>\n",
       "    </tr>\n",
       "    <tr>\n",
       "      <th>4</th>\n",
       "      <td>0000001750_10-K_2020_section_1_4</td>\n",
       "      <td>Our momentum from a successful fiscal 2019 car...</td>\n",
       "      <td>0000001750_10-K_2020</td>\n",
       "      <td>2020-07-21</td>\n",
       "      <td>0</td>\n",
       "      <td>AAR CORP</td>\n",
       "      <td>[AIR]</td>\n",
       "      <td>2020-05-31</td>\n",
       "      <td>{'1d': {'closePriceEndDate': 19.01000022888183...</td>\n",
       "      <td>0</td>\n",
       "      <td>1</td>\n",
       "      <td>0</td>\n",
       "      <td>positive</td>\n",
       "    </tr>\n",
       "  </tbody>\n",
       "</table>\n",
       "</div>"
      ],
      "text/plain": [
       "                         sentenceID  \\\n",
       "0  0000001750_10-K_2020_section_1_0   \n",
       "1  0000001750_10-K_2020_section_1_1   \n",
       "2  0000001750_10-K_2020_section_1_2   \n",
       "3  0000001750_10-K_2020_section_1_3   \n",
       "4  0000001750_10-K_2020_section_1_4   \n",
       "\n",
       "                                            sentence                 docID  \\\n",
       "0  ITEM 1.BUSINESS General AAR CORP. and its subs...  0000001750_10-K_2020   \n",
       "1  AAR was founded in 1951, organized in 1955 and...  0000001750_10-K_2020   \n",
       "2  We are a diversified provider of products and ...  0000001750_10-K_2020   \n",
       "3  Fiscal 2020 began with strategic initiatives f...  0000001750_10-K_2020   \n",
       "4  Our momentum from a successful fiscal 2019 car...  0000001750_10-K_2020   \n",
       "\n",
       "   filingDate  section      name tickers  reportDate  \\\n",
       "0  2020-07-21        0  AAR CORP   [AIR]  2020-05-31   \n",
       "1  2020-07-21        0  AAR CORP   [AIR]  2020-05-31   \n",
       "2  2020-07-21        0  AAR CORP   [AIR]  2020-05-31   \n",
       "3  2020-07-21        0  AAR CORP   [AIR]  2020-05-31   \n",
       "4  2020-07-21        0  AAR CORP   [AIR]  2020-05-31   \n",
       "\n",
       "                                             returns  label_1d  label_5d  \\\n",
       "0  {'1d': {'closePriceEndDate': 19.01000022888183...         0         1   \n",
       "1  {'1d': {'closePriceEndDate': 19.01000022888183...         0         1   \n",
       "2  {'1d': {'closePriceEndDate': 19.01000022888183...         0         1   \n",
       "3  {'1d': {'closePriceEndDate': 19.01000022888183...         0         1   \n",
       "4  {'1d': {'closePriceEndDate': 19.01000022888183...         0         1   \n",
       "\n",
       "   label_30d sentiment  \n",
       "0          0   neutral  \n",
       "1          0   neutral  \n",
       "2          0   neutral  \n",
       "3          0  positive  \n",
       "4          0  positive  "
      ]
     },
     "execution_count": 51,
     "metadata": {},
     "output_type": "execute_result"
    }
   ],
   "source": [
    "df.head()"
   ]
  },
  {
   "cell_type": "code",
   "execution_count": null,
   "id": "26747339-479f-4929-9cdd-ef60c29d4bc5",
   "metadata": {},
   "outputs": [],
   "source": []
  }
 ],
 "metadata": {
  "kernelspec": {
   "display_name": "Python 3 (ipykernel)",
   "language": "python",
   "name": "python3"
  },
  "language_info": {
   "codemirror_mode": {
    "name": "ipython",
    "version": 3
   },
   "file_extension": ".py",
   "mimetype": "text/x-python",
   "name": "python",
   "nbconvert_exporter": "python",
   "pygments_lexer": "ipython3",
   "version": "3.9.15"
  }
 },
 "nbformat": 4,
 "nbformat_minor": 5
}
