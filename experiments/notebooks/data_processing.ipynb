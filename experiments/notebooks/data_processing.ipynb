{
 "cells": [
  {
   "cell_type": "code",
   "execution_count": 7,
   "id": "03a05073-a04f-4a87-bb66-fc6fba631d52",
   "metadata": {},
   "outputs": [],
   "source": [
    "!pip install -qq transformers datasets"
   ]
  },
  {
   "cell_type": "code",
   "execution_count": 1,
   "id": "0c28253a-1841-413e-9b3d-465128bef06f",
   "metadata": {},
   "outputs": [],
   "source": [
    "import transformers\n",
    "import datasets\n",
    "import pandas as pd\n",
    "import ast"
   ]
  },
  {
   "cell_type": "code",
   "execution_count": 17,
   "id": "9c3c998b-045a-417a-8eeb-2fab33a33fd9",
   "metadata": {},
   "outputs": [],
   "source": [
    "from datasets import load_dataset\n",
    "\n",
    "ds = load_dataset(\"JanosAudran/financial-reports-sec\", \"small_full\")"
   ]
  },
  {
   "cell_type": "code",
   "execution_count": 3,
   "id": "d7449a9f-5564-4ae6-b0de-9a479b794dd7",
   "metadata": {},
   "outputs": [
    {
     "name": "stdout",
     "output_type": "stream",
     "text": [
      "\n",
      "Column Names:\n",
      "['cik', 'sentence', 'section', 'labels', 'filingDate', 'name', 'docID', 'sentenceID', 'sentenceCount', 'tickers', 'exchanges', 'entityType', 'sic', 'stateOfIncorporation', 'tickerCount', 'acceptanceDateTime', 'form', 'reportDate', 'returns']\n",
      "Training set size: 200000 records\n",
      "Validation set size: 20000 records\n",
      "Test set size: 20000 records\n",
      "\n",
      "Number of columns: 19\n",
      "Columns: ['cik', 'sentence', 'section', 'labels', 'filingDate', 'name', 'docID', 'sentenceID', 'sentenceCount', 'tickers', 'exchanges', 'entityType', 'sic', 'stateOfIncorporation', 'tickerCount', 'acceptanceDateTime', 'form', 'reportDate', 'returns']\n"
     ]
    }
   ],
   "source": [
    "# SOME EDA \n",
    "# Explore the dataset structure\n",
    "# print(\"Dataset Info:\")\n",
    "# print(ds)\n",
    "\n",
    "# Access a few samples from the dataset (first 5 samples for example)\n",
    "# print(\"\\nSample Records:\")\n",
    "# for i in range(5):\n",
    "#     print(f\"Sample {i+1}:\")\n",
    "#     print(ds['train'][i])\n",
    "#     print(\"\\n\")\n",
    "\n",
    "# You can also look at the column names or specific attributes\n",
    "print(\"\\nColumn Names:\")\n",
    "print(ds['train'].column_names)\n",
    "\n",
    "\n",
    "\n",
    "# Get dataset size details\n",
    "train_size = len(ds['train'])\n",
    "valid_size = len(ds['validation'])\n",
    "test_size = len(ds['test'])\n",
    "\n",
    "print(f\"Training set size: {train_size} records\")\n",
    "print(f\"Validation set size: {valid_size} records\")\n",
    "print(f\"Test set size: {test_size} records\")\n",
    "\n",
    "# Get the number of columns\n",
    "columns = ds['train'].column_names\n",
    "num_columns = len(columns)\n",
    "\n",
    "print(f\"\\nNumber of columns: {num_columns}\")\n",
    "print(f\"Columns: {columns}\")"
   ]
  },
  {
   "cell_type": "code",
   "execution_count": 4,
   "id": "a45099a9-e767-47a3-a315-ad3bb8d74d39",
   "metadata": {},
   "outputs": [],
   "source": [
    "df = ds[\"train\"].to_pandas()\n",
    "# df = datasets.concatenate_datasets([ds[\"train\"], ds['test']]).to_pandas()"
   ]
  },
  {
   "cell_type": "code",
   "execution_count": 5,
   "id": "119f674a-bf2a-4650-b51d-218487bd6692",
   "metadata": {},
   "outputs": [
    {
     "data": {
      "text/plain": [
       "200000"
      ]
     },
     "execution_count": 5,
     "metadata": {},
     "output_type": "execute_result"
    }
   ],
   "source": [
    "# size of df\n",
    "len(df)"
   ]
  },
  {
   "cell_type": "code",
   "execution_count": 6,
   "id": "fb6bf931-3492-4681-89ec-09dcbd6e5461",
   "metadata": {},
   "outputs": [
    {
     "data": {
      "text/plain": [
       "(array(['AAR CORP', 'ABBOTT LABORATORIES', 'WORLDS INC',\n",
       "        'ACME UNITED CORP', 'ADAMS RESOURCES & ENERGY, INC.',\n",
       "        'BK Technologies Corp', 'ADVANCED MICRO DEVICES INC',\n",
       "        'Air Products & Chemicals, Inc.', 'CECO ENVIRONMENTAL CORP',\n",
       "        'Matson, Inc.'], dtype=object),\n",
       " 10)"
      ]
     },
     "execution_count": 6,
     "metadata": {},
     "output_type": "execute_result"
    }
   ],
   "source": [
    "# Unique companies\n",
    "df['name'].unique(),df['name'].nunique() "
   ]
  },
  {
   "cell_type": "code",
   "execution_count": 7,
   "id": "ad3d6563-d93d-4452-a8af-539015d05a46",
   "metadata": {},
   "outputs": [
    {
     "data": {
      "text/plain": [
       "array([ 0,  1,  2,  3,  4,  5,  6,  7,  8,  9, 10, 11, 12, 13, 14, 15, 16,\n",
       "       17, 18, 19])"
      ]
     },
     "execution_count": 7,
     "metadata": {},
     "output_type": "execute_result"
    }
   ],
   "source": [
    "# unique sections\n",
    "df['section'].unique()"
   ]
  },
  {
   "cell_type": "code",
   "execution_count": 8,
   "id": "9072e91c-455b-448a-b63c-cbd79ca91387",
   "metadata": {},
   "outputs": [
    {
     "data": {
      "text/plain": [
       "188"
      ]
     },
     "execution_count": 8,
     "metadata": {},
     "output_type": "execute_result"
    }
   ],
   "source": [
    "# how many documents ? \n",
    "df['docID'].nunique()"
   ]
  },
  {
   "cell_type": "code",
   "execution_count": 9,
   "id": "71c75f2d-9de2-4540-bc23-7317832065f8",
   "metadata": {},
   "outputs": [],
   "source": [
    "\n",
    "\n",
    "df_sections = df.groupby(['docID', 'section']).agg({\n",
    "    'sentence': ' '.join,\n",
    "    'name': 'first',  # Keep the first value for this col\n",
    "    'labels' : 'first', \n",
    "    'filingDate' : 'first', \n",
    "    # 'tickers' : 'first', \n",
    "    # 'stateOfIncorporation' : 'first',\n",
    "    'acceptanceDateTime' : 'first',\n",
    "    'reportDate' : 'first',\n",
    "    'returns' : 'first'\n",
    "    \n",
    "}).reset_index()"
   ]
  },
  {
   "cell_type": "code",
   "execution_count": 10,
   "id": "26cb8e60-e4e5-491b-aaf4-113f3d7750bf",
   "metadata": {},
   "outputs": [
    {
     "data": {
      "text/html": [
       "<div>\n",
       "<style scoped>\n",
       "    .dataframe tbody tr th:only-of-type {\n",
       "        vertical-align: middle;\n",
       "    }\n",
       "\n",
       "    .dataframe tbody tr th {\n",
       "        vertical-align: top;\n",
       "    }\n",
       "\n",
       "    .dataframe thead th {\n",
       "        text-align: right;\n",
       "    }\n",
       "</style>\n",
       "<table border=\"1\" class=\"dataframe\">\n",
       "  <thead>\n",
       "    <tr style=\"text-align: right;\">\n",
       "      <th></th>\n",
       "      <th>docID</th>\n",
       "      <th>section</th>\n",
       "      <th>sentence</th>\n",
       "      <th>name</th>\n",
       "      <th>labels</th>\n",
       "      <th>filingDate</th>\n",
       "      <th>acceptanceDateTime</th>\n",
       "      <th>reportDate</th>\n",
       "      <th>returns</th>\n",
       "    </tr>\n",
       "  </thead>\n",
       "  <tbody>\n",
       "    <tr>\n",
       "      <th>0</th>\n",
       "      <td>0000001750_10-K_1994</td>\n",
       "      <td>0</td>\n",
       "      <td>ITEM 1. BUSINESS AAR CORP. and its subsidiarie...</td>\n",
       "      <td>AAR CORP</td>\n",
       "      <td>{'1d': 1, '5d': 1, '30d': 1}</td>\n",
       "      <td>1994-08-24</td>\n",
       "      <td>1994-08-24T00:00:00.000Z</td>\n",
       "      <td>1994-05-31</td>\n",
       "      <td>{'1d': {'closePriceEndDate': 7.062620639801025...</td>\n",
       "    </tr>\n",
       "    <tr>\n",
       "      <th>1</th>\n",
       "      <td>0000001750_10-K_1994</td>\n",
       "      <td>3</td>\n",
       "      <td>ITEM 2. PROPERTIES Aviation trading activities...</td>\n",
       "      <td>AAR CORP</td>\n",
       "      <td>{'1d': 1, '5d': 1, '30d': 1}</td>\n",
       "      <td>1994-08-24</td>\n",
       "      <td>1994-08-24T00:00:00.000Z</td>\n",
       "      <td>1994-05-31</td>\n",
       "      <td>{'1d': {'closePriceEndDate': 7.062620639801025...</td>\n",
       "    </tr>\n",
       "    <tr>\n",
       "      <th>2</th>\n",
       "      <td>0000001750_10-K_1994</td>\n",
       "      <td>4</td>\n",
       "      <td>ITEM 3. LEGAL PROCEEDINGS The Company is not a...</td>\n",
       "      <td>AAR CORP</td>\n",
       "      <td>{'1d': 1, '5d': 1, '30d': 1}</td>\n",
       "      <td>1994-08-24</td>\n",
       "      <td>1994-08-24T00:00:00.000Z</td>\n",
       "      <td>1994-05-31</td>\n",
       "      <td>{'1d': {'closePriceEndDate': 7.062620639801025...</td>\n",
       "    </tr>\n",
       "    <tr>\n",
       "      <th>3</th>\n",
       "      <td>0000001750_10-K_1994</td>\n",
       "      <td>5</td>\n",
       "      <td>ITEM 4. SUBMISSION OF MATTERS TO A VOTE OF SEC...</td>\n",
       "      <td>AAR CORP</td>\n",
       "      <td>{'1d': 1, '5d': 1, '30d': 1}</td>\n",
       "      <td>1994-08-24</td>\n",
       "      <td>1994-08-24T00:00:00.000Z</td>\n",
       "      <td>1994-05-31</td>\n",
       "      <td>{'1d': {'closePriceEndDate': 7.062620639801025...</td>\n",
       "    </tr>\n",
       "    <tr>\n",
       "      <th>4</th>\n",
       "      <td>0000001750_10-K_1994</td>\n",
       "      <td>6</td>\n",
       "      <td>ITEM 5. MARKET FOR THE COMPANY'S COMMON EQUITY...</td>\n",
       "      <td>AAR CORP</td>\n",
       "      <td>{'1d': 1, '5d': 1, '30d': 1}</td>\n",
       "      <td>1994-08-24</td>\n",
       "      <td>1994-08-24T00:00:00.000Z</td>\n",
       "      <td>1994-05-31</td>\n",
       "      <td>{'1d': {'closePriceEndDate': 7.062620639801025...</td>\n",
       "    </tr>\n",
       "  </tbody>\n",
       "</table>\n",
       "</div>"
      ],
      "text/plain": [
       "                  docID  section  \\\n",
       "0  0000001750_10-K_1994        0   \n",
       "1  0000001750_10-K_1994        3   \n",
       "2  0000001750_10-K_1994        4   \n",
       "3  0000001750_10-K_1994        5   \n",
       "4  0000001750_10-K_1994        6   \n",
       "\n",
       "                                            sentence      name  \\\n",
       "0  ITEM 1. BUSINESS AAR CORP. and its subsidiarie...  AAR CORP   \n",
       "1  ITEM 2. PROPERTIES Aviation trading activities...  AAR CORP   \n",
       "2  ITEM 3. LEGAL PROCEEDINGS The Company is not a...  AAR CORP   \n",
       "3  ITEM 4. SUBMISSION OF MATTERS TO A VOTE OF SEC...  AAR CORP   \n",
       "4  ITEM 5. MARKET FOR THE COMPANY'S COMMON EQUITY...  AAR CORP   \n",
       "\n",
       "                         labels  filingDate        acceptanceDateTime  \\\n",
       "0  {'1d': 1, '5d': 1, '30d': 1}  1994-08-24  1994-08-24T00:00:00.000Z   \n",
       "1  {'1d': 1, '5d': 1, '30d': 1}  1994-08-24  1994-08-24T00:00:00.000Z   \n",
       "2  {'1d': 1, '5d': 1, '30d': 1}  1994-08-24  1994-08-24T00:00:00.000Z   \n",
       "3  {'1d': 1, '5d': 1, '30d': 1}  1994-08-24  1994-08-24T00:00:00.000Z   \n",
       "4  {'1d': 1, '5d': 1, '30d': 1}  1994-08-24  1994-08-24T00:00:00.000Z   \n",
       "\n",
       "   reportDate                                            returns  \n",
       "0  1994-05-31  {'1d': {'closePriceEndDate': 7.062620639801025...  \n",
       "1  1994-05-31  {'1d': {'closePriceEndDate': 7.062620639801025...  \n",
       "2  1994-05-31  {'1d': {'closePriceEndDate': 7.062620639801025...  \n",
       "3  1994-05-31  {'1d': {'closePriceEndDate': 7.062620639801025...  \n",
       "4  1994-05-31  {'1d': {'closePriceEndDate': 7.062620639801025...  "
      ]
     },
     "execution_count": 10,
     "metadata": {},
     "output_type": "execute_result"
    }
   ],
   "source": [
    "df_sections.head()"
   ]
  },
  {
   "cell_type": "code",
   "execution_count": 11,
   "id": "de795277-0d91-49c4-890c-0456c2545934",
   "metadata": {},
   "outputs": [
    {
     "data": {
      "text/plain": [
       "\"ITEM 2. PROPERTIES Aviation trading activities are conducted from two buildings in Elk Grove Village, Illinois, one owned by the Company, the other subject to an industrial revenue bond mortgage until 1995. In addition to warehouse space, which is mechanized for efficient access to the diverse inventory, these facilities include executive offices, sales offices and a service center. Warehouse facilities are leased in Cerritos, California and Hawthorne, New York for the purpose of aviation hardware distribution and in Hamburg, Germany and Nantgarw, United Kingdom for the purpose of aviation part and component distribution. Aviation overhaul facilities are located in The Netherlands near Schiphol International Airport (owned by the Company); Garden City, New York (owned by the Company); Frankfort, New York (subject to an industrial revenue bond lease to the Company until 2001, at which time the Company shall purchase the facility for a nominal consideration); Windsor, Connecticut (in a building owned by the Company); Miami, Florida (in leased facilities near the airport); Singapore (in leased facilities adjacent to the airport); London, England (in leased facilities); Paris, France (in leased facilities) and Oklahoma City, Oklahoma (in facilities leased from airport authorities). The Company's experience indicates that lease renewal is available on reasonable terms consistent with its business needs. The Company's principal manufacturing activities are conducted at owned facilities in Cadillac and Livonia, Michigan. Industrial floor cleaning equipment is manufactured in a plant located in Aberdeen, North Carolina (subject to an industrial revenue bond lease to the Company until October 1994, at which time the Company shall purchase the facility for a nominal consideration) with a sales office in Bad Hamburg, Germany. ITEM 3.\""
      ]
     },
     "execution_count": 11,
     "metadata": {},
     "output_type": "execute_result"
    }
   ],
   "source": [
    "# looking at one section\n",
    "df_sections.iloc[1]['sentence']"
   ]
  },
  {
   "cell_type": "code",
   "execution_count": 12,
   "id": "ce6fdfe6-960b-41c4-9a76-e0204ff7bb0f",
   "metadata": {},
   "outputs": [
    {
     "data": {
      "text/plain": [
       "Index(['cik', 'sentence', 'section', 'labels', 'filingDate', 'name', 'docID',\n",
       "       'sentenceID', 'sentenceCount', 'tickers', 'exchanges', 'entityType',\n",
       "       'sic', 'stateOfIncorporation', 'tickerCount', 'acceptanceDateTime',\n",
       "       'form', 'reportDate', 'returns'],\n",
       "      dtype='object')"
      ]
     },
     "execution_count": 12,
     "metadata": {},
     "output_type": "execute_result"
    }
   ],
   "source": [
    "df.columns"
   ]
  },
  {
   "cell_type": "code",
   "execution_count": 13,
   "id": "35e675e0-56e7-4932-8c03-1152b9b9efb8",
   "metadata": {},
   "outputs": [],
   "source": [
    "# convert the dict val inside the labels col to 3 separate cols for 1d, 5d and 30d window. \n",
    "\n",
    "def parse_labels(label):\n",
    "    if isinstance(label, str):  # Check if the entry is a string\n",
    "        try:\n",
    "            return json.loads(label.replace(\"'\", '\"'))  # Convert single quotes to double quotes for JSON\n",
    "        except json.JSONDecodeError as e:\n",
    "            print(f\"Error parsing label: {label} -> {e}\")\n",
    "            return {}  # Return an empty dict if parsing fails\n",
    "    return label \n",
    "\n",
    "\n",
    "labels_df = df_sections['labels'].apply(parse_labels).apply(pd.Series)\n",
    "labels_df.columns = [f\"label_{col}\" for col in labels_df.columns]\n",
    "df_final = pd.concat([df_sections, labels_df], axis=1).drop(columns=['labels'])\n",
    "df_final.rename(columns={'sentence': 'text'}, inplace=True)\n"
   ]
  },
  {
   "cell_type": "code",
   "execution_count": 14,
   "id": "bc1394eb-89b4-4d9a-88e8-2a79eaa09452",
   "metadata": {},
   "outputs": [
    {
     "data": {
      "text/html": [
       "<div>\n",
       "<style scoped>\n",
       "    .dataframe tbody tr th:only-of-type {\n",
       "        vertical-align: middle;\n",
       "    }\n",
       "\n",
       "    .dataframe tbody tr th {\n",
       "        vertical-align: top;\n",
       "    }\n",
       "\n",
       "    .dataframe thead th {\n",
       "        text-align: right;\n",
       "    }\n",
       "</style>\n",
       "<table border=\"1\" class=\"dataframe\">\n",
       "  <thead>\n",
       "    <tr style=\"text-align: right;\">\n",
       "      <th></th>\n",
       "      <th>docID</th>\n",
       "      <th>section</th>\n",
       "      <th>text</th>\n",
       "      <th>name</th>\n",
       "      <th>filingDate</th>\n",
       "      <th>acceptanceDateTime</th>\n",
       "      <th>reportDate</th>\n",
       "      <th>returns</th>\n",
       "      <th>label_1d</th>\n",
       "      <th>label_5d</th>\n",
       "      <th>label_30d</th>\n",
       "    </tr>\n",
       "  </thead>\n",
       "  <tbody>\n",
       "    <tr>\n",
       "      <th>0</th>\n",
       "      <td>0000001750_10-K_1994</td>\n",
       "      <td>0</td>\n",
       "      <td>ITEM 1. BUSINESS AAR CORP. and its subsidiarie...</td>\n",
       "      <td>AAR CORP</td>\n",
       "      <td>1994-08-24</td>\n",
       "      <td>1994-08-24T00:00:00.000Z</td>\n",
       "      <td>1994-05-31</td>\n",
       "      <td>{'1d': {'closePriceEndDate': 7.062620639801025...</td>\n",
       "      <td>1</td>\n",
       "      <td>1</td>\n",
       "      <td>1</td>\n",
       "    </tr>\n",
       "    <tr>\n",
       "      <th>1</th>\n",
       "      <td>0000001750_10-K_1994</td>\n",
       "      <td>3</td>\n",
       "      <td>ITEM 2. PROPERTIES Aviation trading activities...</td>\n",
       "      <td>AAR CORP</td>\n",
       "      <td>1994-08-24</td>\n",
       "      <td>1994-08-24T00:00:00.000Z</td>\n",
       "      <td>1994-05-31</td>\n",
       "      <td>{'1d': {'closePriceEndDate': 7.062620639801025...</td>\n",
       "      <td>1</td>\n",
       "      <td>1</td>\n",
       "      <td>1</td>\n",
       "    </tr>\n",
       "    <tr>\n",
       "      <th>2</th>\n",
       "      <td>0000001750_10-K_1994</td>\n",
       "      <td>4</td>\n",
       "      <td>ITEM 3. LEGAL PROCEEDINGS The Company is not a...</td>\n",
       "      <td>AAR CORP</td>\n",
       "      <td>1994-08-24</td>\n",
       "      <td>1994-08-24T00:00:00.000Z</td>\n",
       "      <td>1994-05-31</td>\n",
       "      <td>{'1d': {'closePriceEndDate': 7.062620639801025...</td>\n",
       "      <td>1</td>\n",
       "      <td>1</td>\n",
       "      <td>1</td>\n",
       "    </tr>\n",
       "    <tr>\n",
       "      <th>3</th>\n",
       "      <td>0000001750_10-K_1994</td>\n",
       "      <td>5</td>\n",
       "      <td>ITEM 4. SUBMISSION OF MATTERS TO A VOTE OF SEC...</td>\n",
       "      <td>AAR CORP</td>\n",
       "      <td>1994-08-24</td>\n",
       "      <td>1994-08-24T00:00:00.000Z</td>\n",
       "      <td>1994-05-31</td>\n",
       "      <td>{'1d': {'closePriceEndDate': 7.062620639801025...</td>\n",
       "      <td>1</td>\n",
       "      <td>1</td>\n",
       "      <td>1</td>\n",
       "    </tr>\n",
       "    <tr>\n",
       "      <th>4</th>\n",
       "      <td>0000001750_10-K_1994</td>\n",
       "      <td>6</td>\n",
       "      <td>ITEM 5. MARKET FOR THE COMPANY'S COMMON EQUITY...</td>\n",
       "      <td>AAR CORP</td>\n",
       "      <td>1994-08-24</td>\n",
       "      <td>1994-08-24T00:00:00.000Z</td>\n",
       "      <td>1994-05-31</td>\n",
       "      <td>{'1d': {'closePriceEndDate': 7.062620639801025...</td>\n",
       "      <td>1</td>\n",
       "      <td>1</td>\n",
       "      <td>1</td>\n",
       "    </tr>\n",
       "  </tbody>\n",
       "</table>\n",
       "</div>"
      ],
      "text/plain": [
       "                  docID  section  \\\n",
       "0  0000001750_10-K_1994        0   \n",
       "1  0000001750_10-K_1994        3   \n",
       "2  0000001750_10-K_1994        4   \n",
       "3  0000001750_10-K_1994        5   \n",
       "4  0000001750_10-K_1994        6   \n",
       "\n",
       "                                                text      name  filingDate  \\\n",
       "0  ITEM 1. BUSINESS AAR CORP. and its subsidiarie...  AAR CORP  1994-08-24   \n",
       "1  ITEM 2. PROPERTIES Aviation trading activities...  AAR CORP  1994-08-24   \n",
       "2  ITEM 3. LEGAL PROCEEDINGS The Company is not a...  AAR CORP  1994-08-24   \n",
       "3  ITEM 4. SUBMISSION OF MATTERS TO A VOTE OF SEC...  AAR CORP  1994-08-24   \n",
       "4  ITEM 5. MARKET FOR THE COMPANY'S COMMON EQUITY...  AAR CORP  1994-08-24   \n",
       "\n",
       "         acceptanceDateTime  reportDate  \\\n",
       "0  1994-08-24T00:00:00.000Z  1994-05-31   \n",
       "1  1994-08-24T00:00:00.000Z  1994-05-31   \n",
       "2  1994-08-24T00:00:00.000Z  1994-05-31   \n",
       "3  1994-08-24T00:00:00.000Z  1994-05-31   \n",
       "4  1994-08-24T00:00:00.000Z  1994-05-31   \n",
       "\n",
       "                                             returns  label_1d  label_5d  \\\n",
       "0  {'1d': {'closePriceEndDate': 7.062620639801025...         1         1   \n",
       "1  {'1d': {'closePriceEndDate': 7.062620639801025...         1         1   \n",
       "2  {'1d': {'closePriceEndDate': 7.062620639801025...         1         1   \n",
       "3  {'1d': {'closePriceEndDate': 7.062620639801025...         1         1   \n",
       "4  {'1d': {'closePriceEndDate': 7.062620639801025...         1         1   \n",
       "\n",
       "   label_30d  \n",
       "0          1  \n",
       "1          1  \n",
       "2          1  \n",
       "3          1  \n",
       "4          1  "
      ]
     },
     "execution_count": 14,
     "metadata": {},
     "output_type": "execute_result"
    }
   ],
   "source": [
    "df_final.head()"
   ]
  },
  {
   "cell_type": "code",
   "execution_count": 15,
   "id": "69829d1f-8910-44c9-9141-0afc3f0b1bb8",
   "metadata": {},
   "outputs": [],
   "source": [
    "filename = '10k_sections_small.csv'\n",
    "df_final.to_csv(filename)"
   ]
  },
  {
   "cell_type": "code",
   "execution_count": null,
   "id": "bd3c5b3a-0176-4f1f-a1cb-68f700f6d41a",
   "metadata": {},
   "outputs": [],
   "source": []
  },
  {
   "cell_type": "code",
   "execution_count": null,
   "id": "1a572d6e-68f4-409b-8969-3c9cd1fb83ba",
   "metadata": {},
   "outputs": [],
   "source": []
  }
 ],
 "metadata": {
  "kernelspec": {
   "display_name": "Python 3 (ipykernel)",
   "language": "python",
   "name": "python3"
  },
  "language_info": {
   "codemirror_mode": {
    "name": "ipython",
    "version": 3
   },
   "file_extension": ".py",
   "mimetype": "text/x-python",
   "name": "python",
   "nbconvert_exporter": "python",
   "pygments_lexer": "ipython3",
   "version": "3.9.15"
  }
 },
 "nbformat": 4,
 "nbformat_minor": 5
}
